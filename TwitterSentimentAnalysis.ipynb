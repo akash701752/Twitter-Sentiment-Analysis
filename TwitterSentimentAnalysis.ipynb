{
 "cells": [
  {
   "cell_type": "markdown",
   "metadata": {},
   "source": [
    "Project : Twitter Sentiment Analysis"
   ]
  },
  {
   "cell_type": "code",
   "execution_count": 3,
   "metadata": {},
   "outputs": [],
   "source": [
    "import tweepy \n",
    "from textblob import TextBlob \n",
    "# from wordcloud import WordCloud \n",
    "import pandas as pd \n",
    "import numpy as np\n",
    "import re \n",
    "import matplotlib.pyplot as plt\n",
    "plt.style.use('fivethirtyeight') "
   ]
  },
  {
   "cell_type": "markdown",
   "metadata": {},
   "source": [
    "Twiiter API"
   ]
  },
  {
   "cell_type": "code",
   "execution_count": 4,
   "metadata": {},
   "outputs": [],
   "source": [
    "import tweepy\n",
    "import configparser\n",
    "import pandas as pd\n",
    "config = configparser.ConfigParser()\n",
    "\n",
    "config.read('config.ini')\n",
    "api_key = config['tweets']['api_key']\n",
    "api_key_secret = config['tweets']['api_key_secret']\n",
    "\n",
    "access_token = config['tweets']['access_token']\n",
    "access_token_secret = config['tweets']['access_token_secret']"
   ]
  },
  {
   "cell_type": "markdown",
   "metadata": {},
   "source": [
    "API Authentication"
   ]
  },
  {
   "cell_type": "code",
   "execution_count": 5,
   "metadata": {},
   "outputs": [
    {
     "name": "stdout",
     "output_type": "stream",
     "text": [
      "RCBTweets\n"
     ]
    }
   ],
   "source": [
    "auth = tweepy.OAuthHandler(api_key,api_key_secret)\n",
    "auth.set_access_token(access_token,access_token_secret)\n",
    "\n",
    "api = tweepy.API(auth)\n",
    "\n",
    "public_tweets = api.home_timeline()\n",
    "\n",
    "# print(public_tweets[0].created_at)\n",
    "print(public_tweets[0].user.screen_name)"
   ]
  },
  {
   "cell_type": "markdown",
   "metadata": {},
   "source": [
    "Extract Tweets From Twitter"
   ]
  },
  {
   "cell_type": "code",
   "execution_count": 6,
   "metadata": {},
   "outputs": [
    {
     "name": "stderr",
     "output_type": "stream",
     "text": [
      "Unexpected parameter: lang\n"
     ]
    },
    {
     "name": "stdout",
     "output_type": "stream",
     "text": [
      "5 Recent Tweets : \n",
      "\n",
      "1 ) The climate crisis is already devastating communities. More funding is necessary to ensure agricultural and technological innovations are widely available to the most vulnerable, helping them adapt to climate change, save lives, and increase economic opportunity. https://t.co/KvQAM73myZ\n",
      "\n"
     ]
    }
   ],
   "source": [
    "posts = api.user_timeline(screen_name=\"BillGates\", count=100, lang = \"en\" , tweet_mode = \"extended\")\n",
    "\n",
    "#printing 5 recent tweets from this Account \n",
    "\n",
    "print(\"5 Recent Tweets : \\n\")\n",
    "i =1\n",
    "for tweet in posts[0:1]:\n",
    "    print(str(i) +' ) ' + tweet.full_text + '\\n')\n",
    "    i+=1"
   ]
  },
  {
   "cell_type": "markdown",
   "metadata": {},
   "source": [
    "Creating a DataFrame for Tweets"
   ]
  },
  {
   "cell_type": "code",
   "execution_count": 7,
   "metadata": {},
   "outputs": [
    {
     "data": {
      "text/html": [
       "<div>\n",
       "<style scoped>\n",
       "    .dataframe tbody tr th:only-of-type {\n",
       "        vertical-align: middle;\n",
       "    }\n",
       "\n",
       "    .dataframe tbody tr th {\n",
       "        vertical-align: top;\n",
       "    }\n",
       "\n",
       "    .dataframe thead th {\n",
       "        text-align: right;\n",
       "    }\n",
       "</style>\n",
       "<table border=\"1\" class=\"dataframe\">\n",
       "  <thead>\n",
       "    <tr style=\"text-align: right;\">\n",
       "      <th></th>\n",
       "      <th>Tweets</th>\n",
       "    </tr>\n",
       "  </thead>\n",
       "  <tbody>\n",
       "    <tr>\n",
       "      <th>0</th>\n",
       "      <td>The climate crisis is already devastating comm...</td>\n",
       "    </tr>\n",
       "    <tr>\n",
       "      <th>1</th>\n",
       "      <td>I have never met anyone who was more passionat...</td>\n",
       "    </tr>\n",
       "    <tr>\n",
       "      <th>2</th>\n",
       "      <td>More than 1B people globally still suffer from...</td>\n",
       "    </tr>\n",
       "    <tr>\n",
       "      <th>3</th>\n",
       "      <td>This year's #BESummit2022 brought together inv...</td>\n",
       "    </tr>\n",
       "    <tr>\n",
       "      <th>4</th>\n",
       "      <td>Math shouldn’t be a gatekeeper, limiting a stu...</td>\n",
       "    </tr>\n",
       "    <tr>\n",
       "      <th>...</th>\n",
       "      <td>...</td>\n",
       "    </tr>\n",
       "    <tr>\n",
       "      <th>95</th>\n",
       "      <td>It’s easy to forget how scary polio was in the...</td>\n",
       "    </tr>\n",
       "    <tr>\n",
       "      <th>96</th>\n",
       "      <td>Damaris Matoke-Muhia is changing the fight aga...</td>\n",
       "    </tr>\n",
       "    <tr>\n",
       "      <th>97</th>\n",
       "      <td>I cannot agree with @Dr_HamidJafari more: wome...</td>\n",
       "    </tr>\n",
       "    <tr>\n",
       "      <th>98</th>\n",
       "      <td>Last year, I laid out a plan for eliminating g...</td>\n",
       "    </tr>\n",
       "    <tr>\n",
       "      <th>99</th>\n",
       "      <td>In the past 16 years the world has made immens...</td>\n",
       "    </tr>\n",
       "  </tbody>\n",
       "</table>\n",
       "<p>100 rows × 1 columns</p>\n",
       "</div>"
      ],
      "text/plain": [
       "                                               Tweets\n",
       "0   The climate crisis is already devastating comm...\n",
       "1   I have never met anyone who was more passionat...\n",
       "2   More than 1B people globally still suffer from...\n",
       "3   This year's #BESummit2022 brought together inv...\n",
       "4   Math shouldn’t be a gatekeeper, limiting a stu...\n",
       "..                                                ...\n",
       "95  It’s easy to forget how scary polio was in the...\n",
       "96  Damaris Matoke-Muhia is changing the fight aga...\n",
       "97  I cannot agree with @Dr_HamidJafari more: wome...\n",
       "98  Last year, I laid out a plan for eliminating g...\n",
       "99  In the past 16 years the world has made immens...\n",
       "\n",
       "[100 rows x 1 columns]"
      ]
     },
     "execution_count": 7,
     "metadata": {},
     "output_type": "execute_result"
    }
   ],
   "source": [
    "#creating dataframe\n",
    "df = pd.DataFrame([tweet.full_text for tweet in posts], columns=['Tweets'])\n",
    "\n",
    "#printing first 5 tweets\n",
    "# df.head()\n",
    "df"
   ]
  },
  {
   "cell_type": "markdown",
   "metadata": {},
   "source": [
    "Cleaning Text"
   ]
  },
  {
   "cell_type": "code",
   "execution_count": 8,
   "metadata": {},
   "outputs": [
    {
     "data": {
      "text/html": [
       "<div>\n",
       "<style scoped>\n",
       "    .dataframe tbody tr th:only-of-type {\n",
       "        vertical-align: middle;\n",
       "    }\n",
       "\n",
       "    .dataframe tbody tr th {\n",
       "        vertical-align: top;\n",
       "    }\n",
       "\n",
       "    .dataframe thead th {\n",
       "        text-align: right;\n",
       "    }\n",
       "</style>\n",
       "<table border=\"1\" class=\"dataframe\">\n",
       "  <thead>\n",
       "    <tr style=\"text-align: right;\">\n",
       "      <th></th>\n",
       "      <th>Tweets</th>\n",
       "    </tr>\n",
       "  </thead>\n",
       "  <tbody>\n",
       "    <tr>\n",
       "      <th>0</th>\n",
       "      <td>The climate crisis is already devastating comm...</td>\n",
       "    </tr>\n",
       "    <tr>\n",
       "      <th>1</th>\n",
       "      <td>I have never met anyone who was more passionat...</td>\n",
       "    </tr>\n",
       "    <tr>\n",
       "      <th>2</th>\n",
       "      <td>More than 1B people globally still suffer from...</td>\n",
       "    </tr>\n",
       "    <tr>\n",
       "      <th>3</th>\n",
       "      <td>This year's BESummit2022 brought together inve...</td>\n",
       "    </tr>\n",
       "    <tr>\n",
       "      <th>4</th>\n",
       "      <td>Math shouldn’t be a gatekeeper, limiting a stu...</td>\n",
       "    </tr>\n",
       "    <tr>\n",
       "      <th>...</th>\n",
       "      <td>...</td>\n",
       "    </tr>\n",
       "    <tr>\n",
       "      <th>95</th>\n",
       "      <td>It’s easy to forget how scary polio was in the...</td>\n",
       "    </tr>\n",
       "    <tr>\n",
       "      <th>96</th>\n",
       "      <td>Damaris Matoke-Muhia is changing the fight aga...</td>\n",
       "    </tr>\n",
       "    <tr>\n",
       "      <th>97</th>\n",
       "      <td>I cannot agree with _HamidJafari more: women v...</td>\n",
       "    </tr>\n",
       "    <tr>\n",
       "      <th>98</th>\n",
       "      <td>Last year, I laid out a plan for eliminating g...</td>\n",
       "    </tr>\n",
       "    <tr>\n",
       "      <th>99</th>\n",
       "      <td>In the past 16 years the world has made immens...</td>\n",
       "    </tr>\n",
       "  </tbody>\n",
       "</table>\n",
       "<p>100 rows × 1 columns</p>\n",
       "</div>"
      ],
      "text/plain": [
       "                                               Tweets\n",
       "0   The climate crisis is already devastating comm...\n",
       "1   I have never met anyone who was more passionat...\n",
       "2   More than 1B people globally still suffer from...\n",
       "3   This year's BESummit2022 brought together inve...\n",
       "4   Math shouldn’t be a gatekeeper, limiting a stu...\n",
       "..                                                ...\n",
       "95  It’s easy to forget how scary polio was in the...\n",
       "96  Damaris Matoke-Muhia is changing the fight aga...\n",
       "97  I cannot agree with _HamidJafari more: women v...\n",
       "98  Last year, I laid out a plan for eliminating g...\n",
       "99  In the past 16 years the world has made immens...\n",
       "\n",
       "[100 rows x 1 columns]"
      ]
     },
     "execution_count": 8,
     "metadata": {},
     "output_type": "execute_result"
    }
   ],
   "source": [
    "#creating a function to clean tweets\n",
    "def cleanTxt(text):\n",
    "    text = re.sub(r'@[A-Za-z0-9]+','',text) # here we removed @ from tweets\n",
    "    text = re.sub(r'#','',text)             # here we removed Hashtags from tweets\n",
    "    text = re.sub(r'RT[\\s]+','',text)       # here we removed ReTweets from tweets\n",
    "    text = re.sub(r'https?:\\/\\/\\S+','',text)       # here we removed Hyperlinks from tweets\n",
    "\n",
    "    return text \n",
    "\n",
    "#Applying function to our Twwets\n",
    "\n",
    "df['Tweets'] = df['Tweets'].apply(cleanTxt)\n",
    "\n",
    "#printing Cleaned Text (Tweets)\n",
    "df"
   ]
  },
  {
   "cell_type": "markdown",
   "metadata": {},
   "source": [
    "Creating a Function to get Subjectivity and Polarity"
   ]
  },
  {
   "cell_type": "code",
   "execution_count": 9,
   "metadata": {},
   "outputs": [
    {
     "data": {
      "text/html": [
       "<div>\n",
       "<style scoped>\n",
       "    .dataframe tbody tr th:only-of-type {\n",
       "        vertical-align: middle;\n",
       "    }\n",
       "\n",
       "    .dataframe tbody tr th {\n",
       "        vertical-align: top;\n",
       "    }\n",
       "\n",
       "    .dataframe thead th {\n",
       "        text-align: right;\n",
       "    }\n",
       "</style>\n",
       "<table border=\"1\" class=\"dataframe\">\n",
       "  <thead>\n",
       "    <tr style=\"text-align: right;\">\n",
       "      <th></th>\n",
       "      <th>Tweets</th>\n",
       "      <th>Subjectivity</th>\n",
       "      <th>Polarity</th>\n",
       "    </tr>\n",
       "  </thead>\n",
       "  <tbody>\n",
       "    <tr>\n",
       "      <th>0</th>\n",
       "      <td>The climate crisis is already devastating comm...</td>\n",
       "      <td>0.585714</td>\n",
       "      <td>0.014286</td>\n",
       "    </tr>\n",
       "    <tr>\n",
       "      <th>1</th>\n",
       "      <td>I have never met anyone who was more passionat...</td>\n",
       "      <td>0.783333</td>\n",
       "      <td>-0.183333</td>\n",
       "    </tr>\n",
       "    <tr>\n",
       "      <th>2</th>\n",
       "      <td>More than 1B people globally still suffer from...</td>\n",
       "      <td>0.500000</td>\n",
       "      <td>0.250000</td>\n",
       "    </tr>\n",
       "    <tr>\n",
       "      <th>3</th>\n",
       "      <td>This year's BESummit2022 brought together inve...</td>\n",
       "      <td>0.000000</td>\n",
       "      <td>0.000000</td>\n",
       "    </tr>\n",
       "    <tr>\n",
       "      <th>4</th>\n",
       "      <td>Math shouldn’t be a gatekeeper, limiting a stu...</td>\n",
       "      <td>0.000000</td>\n",
       "      <td>0.000000</td>\n",
       "    </tr>\n",
       "  </tbody>\n",
       "</table>\n",
       "</div>"
      ],
      "text/plain": [
       "                                              Tweets  Subjectivity  Polarity\n",
       "0  The climate crisis is already devastating comm...      0.585714  0.014286\n",
       "1  I have never met anyone who was more passionat...      0.783333 -0.183333\n",
       "2  More than 1B people globally still suffer from...      0.500000  0.250000\n",
       "3  This year's BESummit2022 brought together inve...      0.000000  0.000000\n",
       "4  Math shouldn’t be a gatekeeper, limiting a stu...      0.000000  0.000000"
      ]
     },
     "execution_count": 9,
     "metadata": {},
     "output_type": "execute_result"
    }
   ],
   "source": [
    "#function for getting subjectivity\n",
    "def getSubjectivity(text):\n",
    "    return TextBlob(text).sentiment.subjectivity \n",
    "\n",
    "#function for getting Polarity\n",
    "def getPolarity(text):\n",
    "    return TextBlob(text).sentiment.polarity\n",
    "\n",
    "\n",
    "#creating two new Columns for the above \n",
    "df['Subjectivity'] = df['Tweets'].apply(getSubjectivity)\n",
    "df['Polarity'] = df['Tweets'].apply(getPolarity)\n",
    "\n",
    "#printing DataFrame with new Columns\n",
    "df.head()\n"
   ]
  },
  {
   "cell_type": "markdown",
   "metadata": {},
   "source": [
    "Plot the Word Cloud"
   ]
  },
  {
   "cell_type": "markdown",
   "metadata": {},
   "source": []
  },
  {
   "cell_type": "code",
   "execution_count": 11,
   "metadata": {},
   "outputs": [
    {
     "ename": "NameError",
     "evalue": "name 'WordCloud' is not defined",
     "output_type": "error",
     "traceback": [
      "\u001b[0;31m---------------------------------------------------------------------------\u001b[0m",
      "\u001b[0;31mNameError\u001b[0m                                 Traceback (most recent call last)",
      "Cell \u001b[0;32mIn [11], line 4\u001b[0m\n\u001b[1;32m      1\u001b[0m \u001b[38;5;66;03m#Word Cloud\u001b[39;00m\n\u001b[1;32m      3\u001b[0m allWords \u001b[38;5;241m=\u001b[39m \u001b[38;5;124m'\u001b[39m\u001b[38;5;124m \u001b[39m\u001b[38;5;124m'\u001b[39m\u001b[38;5;241m.\u001b[39mjoin( [twts \u001b[38;5;28;01mfor\u001b[39;00m twts \u001b[38;5;129;01min\u001b[39;00m df[\u001b[38;5;124m'\u001b[39m\u001b[38;5;124mTweets\u001b[39m\u001b[38;5;124m'\u001b[39m]] )\n\u001b[0;32m----> 4\u001b[0m wordCloud  \u001b[38;5;241m=\u001b[39m \u001b[43mWordCloud\u001b[49m(width\u001b[38;5;241m=\u001b[39m\u001b[38;5;241m500\u001b[39m, height\u001b[38;5;241m=\u001b[39m\u001b[38;5;241m300\u001b[39m , random_state\u001b[38;5;241m=\u001b[39m\u001b[38;5;241m21\u001b[39m, max_font_size\u001b[38;5;241m=\u001b[39m\u001b[38;5;241m119\u001b[39m)\u001b[38;5;241m.\u001b[39mgenerate(allWords)\n\u001b[1;32m      6\u001b[0m plt\u001b[38;5;241m.\u001b[39mimshow(wordCloud,interpolation\u001b[38;5;241m=\u001b[39m\u001b[38;5;124m\"\u001b[39m\u001b[38;5;124mbilinear\u001b[39m\u001b[38;5;124m\"\u001b[39m)\n\u001b[1;32m      7\u001b[0m plt\u001b[38;5;241m.\u001b[39maxis(\u001b[38;5;124m'\u001b[39m\u001b[38;5;124moff\u001b[39m\u001b[38;5;124m'\u001b[39m)\n",
      "\u001b[0;31mNameError\u001b[0m: name 'WordCloud' is not defined"
     ]
    }
   ],
   "source": [
    "#Word Cloud\n",
    "\n",
    "allWords = ' '.join( [twts for twts in df['Tweets']] )\n",
    "wordCloud  = WordCloud(width=500, height=300 , random_state=21, max_font_size=119).generate(allWords)\n",
    "\n",
    "plt.imshow(wordCloud,interpolation=\"bilinear\")\n",
    "plt.axis('off')\n",
    "plt.show()"
   ]
  }
 ],
 "metadata": {
  "interpreter": {
   "hash": "aee8b7b246df8f9039afb4144a1f6fd8d2ca17a180786b69acc140d282b71a49"
  },
  "kernelspec": {
   "display_name": "Python 3.11.0 64-bit",
   "language": "python",
   "name": "python3"
  },
  "language_info": {
   "codemirror_mode": {
    "name": "ipython",
    "version": 3
   },
   "file_extension": ".py",
   "mimetype": "text/x-python",
   "name": "python",
   "nbconvert_exporter": "python",
   "pygments_lexer": "ipython3",
   "version": "3.11.0"
  },
  "orig_nbformat": 4
 },
 "nbformat": 4,
 "nbformat_minor": 2
}
